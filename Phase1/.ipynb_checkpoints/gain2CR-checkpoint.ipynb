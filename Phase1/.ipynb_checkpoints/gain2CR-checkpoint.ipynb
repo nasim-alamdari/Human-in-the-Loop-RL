{
 "cells": [
  {
   "cell_type": "markdown",
   "metadata": {},
   "source": [
    "### Convert 9 bands CRs to 5 bands\n"
   ]
  },
  {
   "cell_type": "code",
   "execution_count": null,
   "metadata": {},
   "outputs": [],
   "source": [
    "#==========================================\n",
    "# Gain to compression ratio (CR) conversion\n",
    "# Author: Nasim Alamdari\n",
    "# Date:   Dec. 2020\n",
    "#==========================================\n",
    "\n",
    "import numpy as np\n",
    "\n",
    "# Example:\n",
    "# Audiogram = [10, 10, 20,20,25,30,35,40,40]\n",
    "# Soft gains     = [4.0, 3.0, 11.0, 10.0, 12.0, 20.0, 23.0, 23.0, 20.0]\n",
    "# Moderate gains = [2.0, 2.0, 10.0, 9.0, 12.0, 21.0, 22.0, 21.0, 18.0]\n",
    "# Loud gains     = 1.0, 0.0, 6.0, 6.0, 7.0, 16.0, 18.0, 15.0, 13.0]\n",
    "# Hearing aid type: BTE, Foam eartip\n",
    "\n",
    "DSLv5_S_G = [4.0, 3.0, 11.0, 10.0, 12.0, 20.0, 23.0, 23.0, 20.0]\n",
    "ModerateG = [2.0, 2.0, 10.0, 9.0, 12.0, 21.0, 22.0, 21.0, 18.0]\n",
    "LoudG     = [1.0, 0.0, 6.0, 6.0, 7.0, 16.0, 18.0, 15.0, 13.0]\n",
    "\n",
    "CT_m = 60.0\n",
    "CT_L = 80.0\n",
    "RelT = 1000e-3;   # Release time (sec)\n",
    "AttT = 1e-2;     # Attack time (sec)"
   ]
  },
  {
   "cell_type": "code",
   "execution_count": null,
   "metadata": {},
   "outputs": [],
   "source": [
    "def gain_to_compressionRatio(gains_m, gains_L, CT_m, CT_L):\n",
    "    \n",
    "    DSLv5_Moderate_Gains = gains_m\n",
    "    DSLv5_Loud_Gains     = gains_L\n",
    "\n",
    "    CT_moderate  = CT_m\n",
    "    CT_loud      = CT_L\n",
    "\n",
    "    y1_b1 = CT_moderate + DSLv5_Moderate_Gains[0]\n",
    "    y1_b2 = CT_moderate + DSLv5_Moderate_Gains[1]\n",
    "    y1_b3 = CT_moderate + DSLv5_Moderate_Gains[2]\n",
    "    y1_b4 = CT_moderate + DSLv5_Moderate_Gains[3]\n",
    "    y1_b5 = CT_moderate + DSLv5_Moderate_Gains[4]\n",
    "\n",
    "    y2_b1 = CT_loud + DSLv5_Loud_Gains[0]\n",
    "    y2_b2 = CT_loud + DSLv5_Loud_Gains[1]\n",
    "    y2_b3 = CT_loud + DSLv5_Loud_Gains[2]\n",
    "    y2_b4 = CT_loud + DSLv5_Loud_Gains[3]\n",
    "    y2_b5 = CT_loud + DSLv5_Loud_Gains[4]\n",
    "\n",
    "    diff_1 = y2_b1 - y1_b1\n",
    "    diff_2 = y2_b2 - y1_b2\n",
    "    diff_3 = y2_b3 - y1_b3\n",
    "    diff_4 = y2_b4 - y1_b4\n",
    "    diff_5 = y2_b5 - y1_b5\n",
    "\n",
    "    CR1 = np.ceil(10* ( CT_loud-CT_moderate)/ ( diff_1 ) )/10\n",
    "    CR2 = np.ceil(10* ( CT_loud-CT_moderate)/ ( diff_2 ) )/10\n",
    "    CR3 = np.ceil(10* ( CT_loud-CT_moderate)/ ( diff_3 ) )/10\n",
    "    CR4 = np.ceil(10* ( CT_loud-CT_moderate)/ ( diff_4 ) )/10\n",
    "    CR5 = np.ceil(10* ( CT_loud-CT_moderate)/ ( diff_5 ) )/10\n",
    "\n",
    "    if CR1 < 1.0 or CR1 == 'inf':\n",
    "        CR1 = 1.0\n",
    "    if CR2 < 1.0 or CR2 == 'inf':\n",
    "        CR2 = 1.0\n",
    "    if CR3 < 1.0 or CR3 == 'inf':\n",
    "        CR3 = 1.0\n",
    "    if CR4 < 1.0 or CR4 == 'inf':\n",
    "        CR4 = 1.0\n",
    "    if CR5 < 1.0 or CR5 == 'inf':\n",
    "        CR5 = 1.0\n",
    "\n",
    "    Cr = [CR1, CR2, CR3, CR4, CR5]\n",
    "\n",
    "    return Cr"
   ]
  },
  {
   "cell_type": "code",
   "execution_count": null,
   "metadata": {},
   "outputs": [],
   "source": [
    "\n",
    "Cr = gain_to_compressionRatio (np.double(ModerateG), np.double(LoudG), np.double(CT_m), np.double(CT_L))\n",
    "\n",
    "INITIAL_CRs = Cr\n"
   ]
  },
  {
   "cell_type": "code",
   "execution_count": null,
   "metadata": {},
   "outputs": [],
   "source": [
    "# Compute 5 bands solft gains\n",
    "soft_Gains = [np.ceil((DSLv5_S_G[0]+DSLv5_S_G[1]+DSLv5_S_G[2])/3),\n",
    "              np.ceil((DSLv5_S_G[3]+DSLv5_S_G[4])/2),\n",
    "              DSLv5_S_G[5], \n",
    "              np.ceil((DSLv5_S_G[6]+DSLv5_S_G[7])/2), \n",
    "              DSLv5_S_G[8] ];\n"
   ]
  },
  {
   "cell_type": "code",
   "execution_count": null,
   "metadata": {},
   "outputs": [],
   "source": [
    "print(\"INITIAL_CRs = \", INITIAL_CRs)\n",
    "print(\"solf_Gains = \", soft_Gains)"
   ]
  },
  {
   "cell_type": "code",
   "execution_count": null,
   "metadata": {},
   "outputs": [],
   "source": []
  }
 ],
 "metadata": {
  "kernelspec": {
   "display_name": "Python 3",
   "language": "python",
   "name": "python3"
  },
  "language_info": {
   "codemirror_mode": {
    "name": "ipython",
    "version": 3
   },
   "file_extension": ".py",
   "mimetype": "text/x-python",
   "name": "python",
   "nbconvert_exporter": "python",
   "pygments_lexer": "ipython3",
   "version": "3.6.9"
  }
 },
 "nbformat": 4,
 "nbformat_minor": 4
}
